{
 "cells": [
  {
   "cell_type": "markdown",
   "id": "10585a7f-97ff-451c-973c-2d7ba6ee5cbb",
   "metadata": {},
   "source": [
    "Single-source model geometry\n",
    "====\n",
    "\n",
    "Plot a figure showing the geometry of the simple single-source model."
   ]
  },
  {
   "cell_type": "code",
   "execution_count": 1,
   "id": "183515d9-1374-4a0c-a2eb-2b3b341a1264",
   "metadata": {
    "execution": {
     "iopub.execute_input": "2021-06-10T15:00:33.641344Z",
     "iopub.status.busy": "2021-06-10T15:00:33.639440Z",
     "iopub.status.idle": "2021-06-10T15:00:35.531621Z",
     "shell.execute_reply": "2021-06-10T15:00:35.532098Z"
    }
   },
   "outputs": [
    {
     "name": "stdout",
     "output_type": "stream",
     "text": [
      "SBP_CACHE_PATH unset\n"
     ]
    },
    {
     "name": "stderr",
     "output_type": "stream",
     "text": [
      "Operator `initdamp` ran in 0.02 s\n",
      "Operator `pad_lam` ran in 0.01 s\n",
      "Operator `pad_mu` ran in 0.01 s\n",
      "Operator `pad_b` ran in 0.01 s\n"
     ]
    },
    {
     "name": "stdout",
     "output_type": "stream",
     "text": [
      "400\n"
     ]
    }
   ],
   "source": [
    "from string import ascii_lowercase\n",
    "import matplotlib.pyplot as plt\n",
    "import numpy as np\n",
    "from matplotlib.lines import Line2D\n",
    "from matplotlib.colors import ListedColormap\n",
    "from sbp_modelling.single_source_deep.model import SingleSourceModel\n",
    "from sbp_modelling.single_source_deep.forward_model import source_xz\n",
    "\n",
    "plt.style.use('./mpl/manuscript.mplstyle')"
   ]
  },
  {
   "cell_type": "code",
   "execution_count": 2,
   "id": "41708a93-5b4b-4dfd-bdc5-b19a4b6bcbd7",
   "metadata": {
    "execution": {
     "iopub.execute_input": "2021-06-10T15:00:35.538138Z",
     "iopub.status.busy": "2021-06-10T15:00:35.537280Z",
     "iopub.status.idle": "2021-06-10T15:00:35.540292Z",
     "shell.execute_reply": "2021-06-10T15:00:35.539492Z"
    }
   },
   "outputs": [],
   "source": [
    "a_x, a_z, seed = 2, 0.1, 1001\n",
    "model = SingleSourceModel(a_x, a_z, seed)\n",
    "waterbottom, mtd_top, mtd_base = model.horizons()"
   ]
  },
  {
   "cell_type": "code",
   "execution_count": 3,
   "id": "31ad9d17-01b4-4825-b9e7-2c98ec584b6c",
   "metadata": {
    "execution": {
     "iopub.execute_input": "2021-06-10T15:00:35.559380Z",
     "iopub.status.busy": "2021-06-10T15:00:35.548405Z",
     "iopub.status.idle": "2021-06-10T15:00:37.796477Z",
     "shell.execute_reply": "2021-06-10T15:00:37.796972Z"
    }
   },
   "outputs": [
    {
     "name": "stdout",
     "output_type": "stream",
     "text": [
      "SBP_CACHE_PATH unset\n"
     ]
    },
    {
     "data": {
      "image/png": "[encoded data removed]",
      "text/plain": [
       "<Figure size 564x282 with 2 Axes>"
      ]
     },
     "metadata": {
      "needs_background": "light"
     },
     "output_type": "display_data"
    }
   ],
   "source": [
    "fig, ax = plt.subplots(1, 2, sharey=True)\n",
    "for horizon in waterbottom, mtd_top, mtd_base:\n",
    "    ax[0].axhline(horizon, color='k')\n",
    "cmap = ListedColormap(['#caf0f8', '#ffe8d6', '#ddbea9',])\n",
    "#cmap = ListedColormap(['white', 'black'])\n",
    "\n",
    "realisation = ax[1].pcolormesh(\n",
    "    model.x, model.z, model.realize_model().T,\n",
    "    shading='nearest', cmap=cmap, rasterized=True\n",
    ")\n",
    "\n",
    "ax[0].set_xlim(model.x.min(), model.x.max())\n",
    "ax[0].set_ylim(model.z.min(), model.z.max())\n",
    "ax[0].invert_yaxis()\n",
    "ax[0].set(ylabel='Depth [m]',\n",
    "          xticks=np.linspace(model.x.min(), model.x.max(), 5),\n",
    "          yticks=np.linspace(model.z.min(), model.z.max(), 5))\n",
    "for i in 0, 1:\n",
    "    ax[i].set(xlabel='$x$ [m]')\n",
    "    ax[i].plot(*source_xz, '*', color='orange')\n",
    "    ax[i].annotate('Source/\\nreceiver', xy=source_xz,\n",
    "                   xytext=(4, -1), textcoords='offset points', va='top', ha='left', fontsize='small')\n",
    "\n",
    "labels = {\n",
    "    0: 'Water layer',\n",
    "    waterbottom: 'Homogeneous layer',\n",
    "    mtd_top: 'Heterogeneous layer',\n",
    "    mtd_base: 'Homogeneous layer',\n",
    "}\n",
    "for z, label in labels.items():\n",
    "    ax[0].annotate(label, xy=(0, z), xytext=(2, -2), textcoords='offset points', va='top', fontsize='small')\n",
    "\n",
    "\n",
    "ax[1].annotate(f'Correlation length:\\n$[a_x, a_z]=[{a_x}, {a_z}]$ m\\nSeed: {seed}', xy=(0, model.z.min()),\n",
    "               va='top', ha='left', xytext=(2, -2), textcoords='offset points', fontsize='small')\n",
    "\n",
    "lithologies = [\n",
    "    Line2D([0], [0], color=cmap(-1.), lw=4),\n",
    "    Line2D([0], [0], color=cmap(0.5), lw=4),\n",
    "    Line2D([0], [0], color=cmap(1.), lw=4)\n",
    "]\n",
    "ax[1].legend(lithologies, ['Water', 'Lithology 1', 'Lithology 2'], loc='lower right', fontsize='small')\n",
    "\n",
    "for i in 0, 1:\n",
    "    if i == 0:\n",
    "        offset = (-20, 0)\n",
    "    else:\n",
    "        offset = (-10, 0)\n",
    "    ax[i].annotate(f'{ascii_lowercase[i]})', xy=(0, 0), xytext=offset, textcoords='offset points', va='center', ha='right')"
   ]
  },
  {
   "cell_type": "code",
   "execution_count": 4,
   "id": "ce6f7cd5-74b4-45e6-a184-03601b3b30b1",
   "metadata": {
    "execution": {
     "iopub.execute_input": "2021-06-10T15:00:37.801664Z",
     "iopub.status.busy": "2021-06-10T15:00:37.799937Z",
     "iopub.status.idle": "2021-06-10T15:00:38.164179Z",
     "shell.execute_reply": "2021-06-10T15:00:38.163681Z"
    },
    "pycharm": {
     "name": "#%%\n"
    },
    "tags": []
   },
   "outputs": [],
   "source": [
    "fig.savefig('../../manuscript/figures/si_fig11.pdf')"
   ]
  },
  {
   "cell_type": "code",
   "execution_count": null,
   "id": "d31efa39",
   "metadata": {},
   "outputs": [],
   "source": []
  }
 ],
 "metadata": {
  "kernelspec": {
   "display_name": "Python 3",
   "language": "python",
   "name": "python3"
  },
  "language_info": {
   "codemirror_mode": {
    "name": "ipython",
    "version": 3
   },
   "file_extension": ".py",
   "mimetype": "text/x-python",
   "name": "python",
   "nbconvert_exporter": "python",
   "pygments_lexer": "ipython3",
   "version": "3.9.2"
  }
 },
 "nbformat": 4,
 "nbformat_minor": 5
}
